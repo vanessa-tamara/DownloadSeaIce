{
 "cells": [
  {
   "cell_type": "code",
   "execution_count": 1,
   "id": "2564e451-db40-4039-8a93-9646bf7993da",
   "metadata": {},
   "outputs": [],
   "source": [
    "import os\n",
    "import glob\n",
    "import sys\n",
    "sys.path.insert(0, os.path.join(os.getcwd(), 'icenet'))\n",
    "import config\n",
    "from tqdm import tqdm\n",
    "import pandas as pd\n",
    "import xarray as xr\n",
    "import time\n",
    "import numpy as np"
   ]
  },
  {
   "cell_type": "code",
   "execution_count": null,
   "id": "fd5b10ac-4f32-48e3-a5fb-340b3bea39c4",
   "metadata": {},
   "outputs": [],
   "source": [
    "# Issue: nearly 50% of the dats missing before 1991\n",
    "for year in range(1979, 1978, -1):\n",
    "    for month in range(12, 0, -1):\n",
    "        command = 'wget -r --user=\"anonymous\" ftp://osisaf.met.no/reprocessed/ice/conc/v2p0/' + \\\n",
    "                                                    str(year) + '/' + str(month).zfill(2) + '/*nh*.nc'\n",
    "        print(command)\n",
    "        os.system(command)"
   ]
  },
  {
   "cell_type": "code",
   "execution_count": null,
   "id": "35ed0075-0b6c-4128-bb5f-4594ab71378f",
   "metadata": {},
   "outputs": [],
   "source": [
    "# Issue: 20-21/02/2022 and 09/11/2021 missing\n",
    "for year in range(2023, 2015, -1):\n",
    "    for month in range(12, 0, -1):\n",
    "#       command = 'wget -r --user=\"anonymous\" ftp://osisaf.met.no/reprocessed/ice/conc-cont-reproc/v2p0/' + \\\n",
    "        command = 'wget -r --user=\"anonymous\" ftp://osisaf.met.no/reprocessed/ice/conc-cont-reproc/v3p0/' + \\\n",
    "                                                    str(year) + '/' + str(month).zfill(2) + '/*nh*.nc'\n",
    "        print(command)\n",
    "        os.system(command)"
   ]
  },
  {
   "cell_type": "code",
   "execution_count": 2,
   "id": "9f0d8b86-d1f1-4a1b-9bdb-0debd00a3135",
   "metadata": {},
   "outputs": [],
   "source": [
    "path = '/home/jovyan/icenet-paper/icenet/osisaf.met.no/reprocessed/ice/'"
   ]
  },
  {
   "cell_type": "markdown",
   "id": "d817bc6a-3dff-4c00-8c0c-fe58583389db",
   "metadata": {},
   "source": [
    "The computation has been done with nco & cdo operators:\n",
    "```\n",
    "#!/bin/bash\n",
    "for year in {1979..2015}\n",
    "#for year in {2016..2023}\n",
    "do\n",
    "   echo \"$year\"\n",
    "   ncrcat ice/ice_conc_nh_ease2-250_cdr-v2p0_\"$year\"*.nc ice_conc_nh_ease2-250_cdr-v2p0_\"$year\".nc\n",
    "   cdo ymonmean ice_conc_nh_ease2-250_cdr-v2p0_\"$year\".nc ice_conc_nh_ease2-250_cdr-v2p0_\"$year\"_monthly_mean.nc\n",
    "done\n",
    "```"
   ]
  },
  {
   "cell_type": "code",
   "execution_count": null,
   "id": "565df428-6a41-4362-9d98-816235f10e6b",
   "metadata": {},
   "outputs": [],
   "source": [
    "# Fix inconsistent latitude values after 2015 (names changed from icdr _> cdr)\n",
    "path = '/home/jovyan/icenet-paper/icenet/osisaf.met.no/reprocessed/'\n",
    "for year in range(2015, 2024, 1):\n",
    "    name = 'ice_conc_nh_ease2-250_'\n",
    "    if (year == 2015):\n",
    "        filename = name + 'cdr-v2p0_' + str(year) + '_monthly_mean.nc'\n",
    "        dset = xr.open_dataset(path + filename)\n",
    "        latitudes = dset.lat.values  \n",
    "    else:\n",
    "        ifilename = name + 'icdr-v2p0_' + str(year) + '_monthly_mean.nc'\n",
    "        dset = xr.open_dataset(path + ifilename)\n",
    "        dset.lat.values = latitudes\n",
    "        filename = name + 'cdr-v2p0_' + str(year) + '_monthly_mean.nc'\n",
    "        dset.to_netcdf(path + filename)"
   ]
  },
  {
   "cell_type": "code",
   "execution_count": 5,
   "id": "12a9f5d7-123b-4785-901b-33ba10541788",
   "metadata": {},
   "outputs": [],
   "source": [
    "path = '/home/jovyan/icenet-paper/icenet/osisaf.met.no/reprocessed/'\n",
    "filename = 'ice_conc_nh_ease2-250_cdr-v2p0_*_monthly_mean.nc'\n",
    "files =  glob.glob(os.path.join(path, filename))\n",
    "files.sort()\n",
    "files\n",
    "da = xr.open_mfdataset(files)"
   ]
  }
 ],
 "metadata": {
  "kernelspec": {
   "display_name": "Python 3 (ipykernel)",
   "language": "python",
   "name": "python3"
  },
  "language_info": {
   "codemirror_mode": {
    "name": "ipython",
    "version": 3
   },
   "file_extension": ".py",
   "mimetype": "text/x-python",
   "name": "python",
   "nbconvert_exporter": "python",
   "pygments_lexer": "ipython3",
   "version": "3.9.13"
  }
 },
 "nbformat": 4,
 "nbformat_minor": 5
}
